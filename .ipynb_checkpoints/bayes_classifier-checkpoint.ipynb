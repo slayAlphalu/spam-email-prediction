{
 "cells": [
  {
   "cell_type": "code",
   "execution_count": 1,
   "metadata": {},
   "outputs": [],
   "source": [
    "import pandas as pd\n",
    "import numpy as np\n",
    "import matplotlib.pyplot as plt\n",
    "from scipy.stats import mode\n",
    "from sklearn.utils import shuffle"
   ]
  },
  {
   "cell_type": "markdown",
   "metadata": {},
   "source": [
    "# Implement the naive Bayes classifier."
   ]
  },
  {
   "cell_type": "code",
   "execution_count": 2,
   "metadata": {},
   "outputs": [],
   "source": [
    "# read in the data\n",
    "x = pd.read_csv('X.csv',  header=None)\n",
    "y = pd.read_csv('y.csv',  header=None)\n",
    "\n",
    "# concatenate x and y\n",
    "df = pd.concat([x, y], axis=1)\n",
    "\n",
    "# shuffle the dataframe\n",
    "df = df.sample(frac=1).reset_index(drop=True)\n",
    "\n",
    "# randomly partition the data into 10 groups.\n",
    "x = []\n",
    "y = []\n",
    "for i in range(10):\n",
    "    x.append(df.iloc[460*i:460*i+460,:-1])\n",
    "    y.append(df.iloc[460*i:460*i+460,-1])"
   ]
  },
  {
   "cell_type": "code",
   "execution_count": 3,
   "metadata": {},
   "outputs": [],
   "source": [
    "def naive_bayes(x, y):\n",
    "    # initialize the four values we need to return \n",
    "    true_positive = 0\n",
    "    true_negative = 0\n",
    "    false_positive = 0\n",
    "    false_negative = 0\n",
    "    # for part b, keep a record of all the lambdas\n",
    "    lambda0_all = np.zeros(54)\n",
    "    lambda1_all = np.zeros(54)\n",
    "    \n",
    "    # run the algorithm 10 different times\n",
    "    for i in range(10):\n",
    "        # create a copy of the input datasets \n",
    "        tmp_x = x.copy()\n",
    "        tmp_y = y.copy()\n",
    "        x_test = tmp_x.pop(i).values\n",
    "        y_test = tmp_y.pop(i).values\n",
    "        x_train = pd.concat(tmp_x).values\n",
    "        y_train = pd.concat(tmp_y).values\n",
    "        \n",
    "        # get the distribution of y \n",
    "        py0 = 1 - np.sum(y_train)/len(y_train)\n",
    "        py1 = np.sum(y_train)/len(y_train)\n",
    "        \n",
    "        # initialize lambdas\n",
    "        lambda0 = np.zeros(x_train.shape[1])\n",
    "        lambda1 = np.zeros(x_train.shape[1])\n",
    "        \n",
    "        # loop through all the features to get lambdas\n",
    "        for j in range(x_train.shape[1]):\n",
    "            y_0_index = np.where(y_train == 0)[0]\n",
    "            y_1_index = np.where(y_train == 1)[0]\n",
    "            feature_0 = x_train[y_0_index, j]\n",
    "            feature_1 = x_train[y_1_index, j]\n",
    "            lambda0[j] = (np.sum(feature_0) + 1) / (len(y_0_index) + 1)\n",
    "            lambda1[j] = (np.sum(feature_1) + 1) / (len(y_1_index) + 1)\n",
    "        \n",
    "        # get cummulative lambdas\n",
    "        lambda0_all += lambda0\n",
    "        lambda1_all += lambda1\n",
    "            \n",
    "        # make predictions\n",
    "        for k in range(len(x_test)):\n",
    "            p0 = py0\n",
    "            p1 = py1\n",
    "            for n in range(len(lambda0)):\n",
    "                # here ignore both of the denominators since they are the same\n",
    "                p0 *= lambda0[n]**(x_test[k, n]) * np.exp(-lambda0[n])\n",
    "                p1 *= lambda1[n]**(x_test[k, n]) * np.exp(-lambda1[n])\n",
    "            if p0 > p1:\n",
    "                if y_test[k] == 0:\n",
    "                    true_negative += 1\n",
    "                else:\n",
    "                    false_negative += 1\n",
    "            else:\n",
    "                if y_test[k] == 1:\n",
    "                    true_positive += 1\n",
    "                else:\n",
    "                    false_positive += 1\n",
    "                    \n",
    "    # get the accuracy and the table\n",
    "    accuracy = (true_positive + true_negative)/\\\n",
    "    (true_positive + true_negative + false_positive + false_negative)\n",
    "    df = pd.DataFrame([[true_negative, false_positive], \n",
    "                       [false_negative, true_positive]], \n",
    "                      index=['True Negative', 'True Positive'], \n",
    "                      columns=['Predicted Negative', 'Predicted Positive'])\n",
    "    print(df)\n",
    "    print('Prediction Accuracy: {}'.format(np.round(accuracy, 3)))\n",
    "    print('true_negative: {}'.format(true_negative))\n",
    "    print('true_positive: {}'.format(true_positive))\n",
    "    print('false_negative: {}'.format(false_negative))\n",
    "    print('false_positive:{}'.format(false_positive))\n",
    "    \n",
    "    # return the cummulative lambdas for part(b)\n",
    "    return (lambda0_all/10, lambda1_all/10)"
   ]
  },
  {
   "cell_type": "code",
   "execution_count": 4,
   "metadata": {},
   "outputs": [
    {
     "name": "stderr",
     "output_type": "stream",
     "text": [
      "/anaconda3/lib/python3.7/site-packages/ipykernel_launcher.py:48: RuntimeWarning: overflow encountered in double_scalars\n"
     ]
    },
    {
     "name": "stdout",
     "output_type": "stream",
     "text": [
      "               Predicted Negative  Predicted Positive\n",
      "True Negative                2295                 492\n",
      "True Positive                 101                1712\n",
      "Prediction Accuracy: 0.871\n",
      "true_negative: 2295\n",
      "true_positive: 1712\n",
      "false_negative: 101\n",
      "false_positive:492\n"
     ]
    }
   ],
   "source": [
    "lambda0, lambda1 = naive_bayes(x, y)\n"
   ]
  },
  {
   "cell_type": "markdown",
   "metadata": {},
   "source": [
    "# show a stem plot of the 54 Poisson parameters for each class averaged across the 10 runs."
   ]
  },
  {
   "cell_type": "code",
   "execution_count": 5,
   "metadata": {},
   "outputs": [
    {
     "data": {
      "image/png": "[encoded data removed]",
      "text/plain": [
       "<Figure size 432x288 with 1 Axes>"
      ]
     },
     "metadata": {
      "needs_background": "light"
     },
     "output_type": "display_data"
    }
   ],
   "source": [
    "plt.stem(np.arange(54), lambda0, 'r', markerfmt='r1', \n",
    "         basefmt='black', label='non-spam')\n",
    "plt.stem(np.arange(54), -lambda1, 'b', markerfmt='b1', \n",
    "         basefmt='black', label='spam')\n",
    "plt.xlabel('features')\n",
    "plt.ylabel('lambda')\n",
    "plt.title('54 Poisson Parameters for Each Class')\n",
    "plt.legend()\n",
    "plt.show()\n"
   ]
  }
 ],
 "metadata": {
  "kernelspec": {
   "display_name": "Python 3",
   "language": "python",
   "name": "python3"
  },
  "language_info": {
   "codemirror_mode": {
    "name": "ipython",
    "version": 3
   },
   "file_extension": ".py",
   "mimetype": "text/x-python",
   "name": "python",
   "nbconvert_exporter": "python",
   "pygments_lexer": "ipython3",
   "version": "3.7.1"
  }
 },
 "nbformat": 4,
 "nbformat_minor": 2
}
