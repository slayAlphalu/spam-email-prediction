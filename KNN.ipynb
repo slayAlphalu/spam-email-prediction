{
 "cells": [
  {
   "cell_type": "code",
   "execution_count": 1,
   "metadata": {},
   "outputs": [],
   "source": [
    "import pandas as pd\n",
    "import numpy as np\n",
    "import matplotlib.pyplot as plt\n",
    "from scipy.stats import mode\n",
    "from sklearn.utils import shuffle"
   ]
  },
  {
   "cell_type": "code",
   "execution_count": 2,
   "metadata": {},
   "outputs": [],
   "source": [
    "# read in the data\n",
    "x = pd.read_csv('X.csv',  header=None)\n",
    "y = pd.read_csv('y.csv',  header=None)\n",
    "\n",
    "# concatenate x and y\n",
    "df = pd.concat([x, y], axis=1)\n",
    "\n",
    "# shuffle the dataframe\n",
    "df = df.sample(frac=1).reset_index(drop=True)\n",
    "\n",
    "# randomly partition the data into 10 groups.\n",
    "x = []\n",
    "y = []\n",
    "for i in range(10):\n",
    "    x.append(df.iloc[460*i:460*i+460,:-1])\n",
    "    y.append(df.iloc[460*i:460*i+460,-1])"
   ]
  },
  {
   "cell_type": "code",
   "execution_count": 3,
   "metadata": {},
   "outputs": [],
   "source": [
    "def knn(x, y):\n",
    "    # initialize the accuracy list\n",
    "    accuracy = []\n",
    "    for k in range(1, 21):\n",
    "        correct = 0\n",
    "        \n",
    "        # run the algorithm 10 different times\n",
    "        for i in range(10):\n",
    "            \n",
    "            # create a copy of the input datasets \n",
    "            tmp_x = x.copy()\n",
    "            tmp_y = y.copy()\n",
    "            x_test = tmp_x.pop(i).values\n",
    "            y_test = tmp_y.pop(i).values\n",
    "            x_train = pd.concat(tmp_x).values\n",
    "            y_train = pd.concat(tmp_y).values\n",
    "            \n",
    "            # loop through all the testing set to make predictions\n",
    "            for j in range(len(x_test)):\n",
    "                # calculate distance \n",
    "                l1_dist = (np.sum(np.absolute(x_test[j] - x_train), \n",
    "                                  axis=1))\n",
    "                index = np.argpartition(l1_dist, k)[:k]                \n",
    "                # pick the most frequent y value to be the prediction\n",
    "                y_predict = mode(y_train[index]).mode[0]\n",
    "                if y_predict == y_test[j]:\n",
    "                    correct +=1\n",
    "        accuracy.append(correct/4600)\n",
    "    return accuracy    "
   ]
  },
  {
   "cell_type": "code",
   "execution_count": null,
   "metadata": {},
   "outputs": [],
   "source": [
    "accuracy = knn(x, y)\n",
    "\n"
   ]
  },
  {
   "cell_type": "code",
   "execution_count": null,
   "metadata": {},
   "outputs": [],
   "source": [
    "x_axis = np.arange(1, 21)\n",
    "plt.xticks(x_axis)\n",
    "plt.plot(x_axis, accuracy)\n",
    "plt.title('Accuracy vs. Number of Neighbors k')\n",
    "plt.xlabel('Number of Neighbors k')\n",
    "plt.ylabel('Accuracy')\n",
    "plt.show()"
   ]
  },
  {
   "cell_type": "code",
   "execution_count": null,
   "metadata": {},
   "outputs": [],
   "source": []
  }
 ],
 "metadata": {
  "kernelspec": {
   "display_name": "Python 3",
   "language": "python",
   "name": "python3"
  },
  "language_info": {
   "codemirror_mode": {
    "name": "ipython",
    "version": 3
   },
   "file_extension": ".py",
   "mimetype": "text/x-python",
   "name": "python",
   "nbconvert_exporter": "python",
   "pygments_lexer": "ipython3",
   "version": "3.7.1"
  }
 },
 "nbformat": 4,
 "nbformat_minor": 2
}
