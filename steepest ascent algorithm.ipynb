{
 "cells": [
  {
   "cell_type": "code",
   "execution_count": 2,
   "metadata": {},
   "outputs": [],
   "source": [
    "import pandas as pd\n",
    "import numpy as np\n",
    "import matplotlib.pyplot as plt\n",
    "from scipy.stats import mode\n",
    "from sklearn.utils import shuffle"
   ]
  },
  {
   "cell_type": "code",
   "execution_count": 3,
   "metadata": {},
   "outputs": [],
   "source": [
    "# read in the data\n",
    "x = pd.read_csv('X.csv',  header=None)\n",
    "y = pd.read_csv('y.csv',  header=None)\n",
    "\n",
    "# concatenate x and y\n",
    "df = pd.concat([x, y], axis=1)\n",
    "\n",
    "# shuffle the dataframe\n",
    "df = df.sample(frac=1).reset_index(drop=True)\n",
    "\n",
    "# randomly partition the data into 10 groups.\n",
    "x = []\n",
    "y = []\n",
    "for i in range(10):\n",
    "    x.append(df.iloc[460*i:460*i+460,:-1])\n",
    "    y.append(df.iloc[460*i:460*i+460,-1])"
   ]
  },
  {
   "cell_type": "code",
   "execution_count": 4,
   "metadata": {},
   "outputs": [],
   "source": [
    "def steepest_ascent(x, y):\n",
    "    # initialize the objective list\n",
    "    objective_all = []\n",
    "    eta = 0.01/4600\n",
    "    accuracy = 4600\n",
    "    \n",
    "    for i in range(10):\n",
    "        objective = []\n",
    "        \n",
    "        # manipulate the data for the purpose of logistic regression\n",
    "        tmp_x = x.copy()\n",
    "        tmp_y = y.copy()\n",
    "        x_test = tmp_x.pop(i).values\n",
    "        y_test = tmp_y.pop(i).values\n",
    "        x_train = pd.concat(tmp_x).values\n",
    "        y_train = pd.concat(tmp_y).values\n",
    "        \n",
    "        # add a constant column for x \n",
    "        x_train=np.insert(x_train, 54, 1, axis=1)\n",
    "        x_test=np.insert(x_test, 54, 1, axis=1)\n",
    "        \n",
    "        # change y = 0 to y = -1 for classification\n",
    "        y_train[np.where(y_train == 0)] = -1\n",
    "        y_test[np.where(y_test == 0)] = -1\n",
    "        \n",
    "        # initialize w\n",
    "        w = np.zeros(len(x_train[0]))\n",
    "        \n",
    "        # run steepest ascent for 1000 times\n",
    "        for j in range(1000):\n",
    "            sigmoid = np.exp((y_train * x_train.T).T @ w)/\\\n",
    "            (1 + np.exp((y_train * x_train.T).T @ w))\n",
    "            w = w + eta * (np.sum((1-sigmoid).reshape(-1,1) * \n",
    "                                  (y_train * x_train.T).T, axis=0))\n",
    "            objective.append(np.sum(sigmoid))\n",
    "        objective_all.append(objective)\n",
    "        \n",
    "        # make predictions\n",
    "        prediction = w @ x_test.T\n",
    "        prediction[np.where(prediction > 0)] = 1\n",
    "        prediction[np.where(prediction < 0)] = -1\n",
    "        accuracy -= np.sum(abs(prediction - y_test))\n",
    "    print('accuracy: {}'.format(np.round(accuracy/4600.0, 3)))    \n",
    "    return objective_all"
   ]
  },
  {
   "cell_type": "code",
   "execution_count": 5,
   "metadata": {},
   "outputs": [
    {
     "name": "stdout",
     "output_type": "stream",
     "text": [
      "accuracy: 0.857\n"
     ]
    }
   ],
   "source": [
    "objective_all = steepest_ascent(x, y)\n"
   ]
  },
  {
   "cell_type": "code",
   "execution_count": 6,
   "metadata": {},
   "outputs": [
    {
     "data": {
      "image/png": "[encoded data removed]",
      "text/plain": [
       "<Figure size 432x288 with 1 Axes>"
      ]
     },
     "metadata": {
      "needs_background": "light"
     },
     "output_type": "display_data"
    }
   ],
   "source": [
    "x_axis = np.arange(1000)\n",
    "for i in range(len(objective_all)):\n",
    "    plt.plot(x_axis, objective_all[i], label=i)\n",
    "plt.title('Objective vs. Number of Iterations')\n",
    "plt.xlabel('Number of Iterations')\n",
    "plt.ylabel('Objective')\n",
    "plt.legend()\n",
    "plt.show()"
   ]
  },
  {
   "cell_type": "markdown",
   "metadata": {},
   "source": [
    "# “Newton’s method” for logistic regression"
   ]
  },
  {
   "cell_type": "code",
   "execution_count": 7,
   "metadata": {},
   "outputs": [],
   "source": [
    "def newtons_method(x, y):\n",
    "    # initialize the objective list\n",
    "    objective_all = []\n",
    "    a = []\n",
    "    for i in range(55):\n",
    "        a.append(0.01)\n",
    "    b = np.diag(a)\n",
    "    \n",
    "    # initialize the four values we need to return \n",
    "    true_positive = 0\n",
    "    true_negative = 0\n",
    "    false_positive = 0\n",
    "    false_negative = 0\n",
    "    for i in range(10):\n",
    "        objective = []\n",
    "        \n",
    "        # manipulate the data for the purpose of logistic regression\n",
    "        tmp_x = x.copy()\n",
    "        tmp_y = y.copy()\n",
    "        x_test = tmp_x.pop(i).values\n",
    "        y_test = tmp_y.pop(i).values\n",
    "        x_train = pd.concat(tmp_x).values\n",
    "        y_train = pd.concat(tmp_y).values\n",
    "        \n",
    "        # add a constant column for x \n",
    "        x_train=np.insert(x_train, 54, 1, axis=1)\n",
    "        x_test=np.insert(x_test, 54, 1, axis=1)\n",
    "        \n",
    "        # change y = 0 to y = -1 for classification\n",
    "        y_train[np.where(y_train == 0)] = -1\n",
    "        y_test[np.where(y_test == 0)] = -1\n",
    "        \n",
    "        # initialize w, sigmoid function and objective L\n",
    "        w = np.zeros(len(x_train[0]))\n",
    "        sigmoid = np.exp((y_train * x_train.T).T @ w)/\\\n",
    "            (1 + np.exp((y_train * x_train.T).T @ w))\n",
    "        L = np.sum(np.log(sigmoid))\n",
    "        \n",
    "        # run newton's method for 100 times\n",
    "        for j in range(100):\n",
    "            gradient = np.sum((1-sigmoid).reshape(-1,1) * \n",
    "                                  (y_train * x_train.T).T, axis=0)\n",
    "            \n",
    "            diagonal = np.diag(sigmoid * (1-sigmoid).reshape(-1,1))\n",
    "            hessian = -  x_train.T * diagonal @ x_train - (10**(-2))*np.identity(55)\n",
    "            w = w - (gradient.T @ np.linalg.inv(hessian)).T\n",
    "            sigmoid = np.exp((y_train * x_train.T).T @ w)/\\\n",
    "            (1 + np.exp((y_train * x_train.T).T @ w))\n",
    "            L +=  - (gradient.T @ np.linalg.inv(hessian)) @ gradient + 0.5 * \\\n",
    "            (gradient.T @ np.linalg.inv(hessian)) @ hessian @ (gradient.T @ np.linalg.inv(hessian)).T\n",
    "            objective.append(L)\n",
    "        objective_all.append(objective)\n",
    "        # make predictions\n",
    "        prediction = w @ x_test.T\n",
    "        prediction[np.where(prediction > 0)] = 1\n",
    "        prediction[np.where(prediction < 0)] = -1\n",
    "        for i in range(len(prediction)):\n",
    "            if prediction[i] == y_test[i] and prediction[i] == 1:\n",
    "                true_positive += 1\n",
    "            elif prediction[i] == y_test[i] and prediction[i] == -1:\n",
    "                true_negative += 1\n",
    "            elif prediction[i] != y_test[i] and prediction[i] == 1:\n",
    "                false_positive += 1\n",
    "            else:\n",
    "                false_negative += 1\n",
    "                    \n",
    "                \n",
    "    accuracy = (true_positive + true_negative)/\\\n",
    "    (true_positive + true_negative + false_positive + false_negative)\n",
    "    print('accuracy: {}'.format(np.round(accuracy, 3)))\n",
    "    df = pd.DataFrame([[true_negative, false_positive], \n",
    "                       [false_negative, true_positive]], \n",
    "                      index=['True Negative', 'True Positive'], \n",
    "                      columns=['Predicted Negative', 'Predicted Positive'])\n",
    "    print(df)\n",
    "    return objective_all"
   ]
  },
  {
   "cell_type": "code",
   "execution_count": 8,
   "metadata": {},
   "outputs": [
    {
     "name": "stdout",
     "output_type": "stream",
     "text": [
      "accuracy: 0.924\n",
      "               Predicted Negative  Predicted Positive\n",
      "True Negative                2645                 142\n",
      "True Positive                 207                1606\n"
     ]
    }
   ],
   "source": [
    "newton_objective = newtons_method(x, y)\n"
   ]
  },
  {
   "cell_type": "code",
   "execution_count": 9,
   "metadata": {},
   "outputs": [
    {
     "data": {
      "image/png": "[encoded data removed]",
      "text/plain": [
       "<Figure size 432x288 with 1 Axes>"
      ]
     },
     "metadata": {
      "needs_background": "light"
     },
     "output_type": "display_data"
    }
   ],
   "source": [
    "x_axis = np.arange(100)\n",
    "for i in range(len(newton_objective)):\n",
    "    plt.plot(x_axis, newton_objective[i], label=i)\n",
    "plt.title('Objective vs. Number of Iterations')\n",
    "plt.xlabel('Number of Iterations')\n",
    "plt.ylabel('Objective')\n",
    "plt.legend()\n",
    "plt.show()"
   ]
  },
  {
   "cell_type": "code",
   "execution_count": 10,
   "metadata": {},
   "outputs": [
    {
     "name": "stdout",
     "output_type": "stream",
     "text": [
      "accuracy: 0.924\n",
      "               Predicted Negative  Predicted Positive\n",
      "True Negative                2645                 142\n",
      "True Positive                 207                1606\n"
     ]
    }
   ],
   "source": [
    "newton_objective = newtons_method(x, y)\n"
   ]
  },
  {
   "cell_type": "code",
   "execution_count": null,
   "metadata": {},
   "outputs": [],
   "source": []
  }
 ],
 "metadata": {
  "kernelspec": {
   "display_name": "Python 3",
   "language": "python",
   "name": "python3"
  },
  "language_info": {
   "codemirror_mode": {
    "name": "ipython",
    "version": 3
   },
   "file_extension": ".py",
   "mimetype": "text/x-python",
   "name": "python",
   "nbconvert_exporter": "python",
   "pygments_lexer": "ipython3",
   "version": "3.7.1"
  }
 },
 "nbformat": 4,
 "nbformat_minor": 2
}
